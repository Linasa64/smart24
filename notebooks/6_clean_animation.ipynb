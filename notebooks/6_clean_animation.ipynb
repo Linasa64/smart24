{
 "cells": [
  {
   "cell_type": "markdown",
   "metadata": {},
   "source": [
    "# Supprime les boutons sous les animations"
   ]
  },
  {
   "cell_type": "code",
   "execution_count": 14,
   "metadata": {},
   "outputs": [],
   "source": [
    "import re\n",
    "\n",
    "def remove_anim_buttons(input_code):\n",
    "    # Modèle de recherche pour les balises anim-buttons\n",
    "    anim_buttons_pattern = re.compile(r'<div class=\"anim-buttons\">.*?</div>', re.DOTALL)\n",
    "    # Suppression du contenu des balises anim-buttons\n",
    "    output_code = re.sub(anim_buttons_pattern, '', input_code)\n",
    "    return output_code\n",
    "\n",
    "def remove_form(input_code):\n",
    "    # Modèle de recherche pour les balises anim-state\n",
    "    anim_state_pattern = re.compile(r'<form.*?</form>', re.DOTALL)\n",
    "    # Suppression du contenu des balises anim-state\n",
    "    output_code = re.sub(anim_state_pattern, '', input_code)\n",
    "    return output_code\n",
    "\n",
    "def process_file(file_name):\n",
    "    # Lecture du contenu du fichier\n",
    "    with open(file_name, 'r') as file:\n",
    "        input_code = file.read()\n",
    "\n",
    "    # Suppression du contenu des balises anim-buttons\n",
    "    output_code = remove_anim_buttons(input_code)\n",
    "    # Suppression du contenu des balises anim-state\n",
    "    output_code = remove_form(output_code)\n",
    "\n",
    "    # Écriture du code converti dans le fichier\n",
    "    with open(file_name, 'w') as file:\n",
    "        file.write(output_code)"
   ]
  },
  {
   "cell_type": "code",
   "execution_count": 16,
   "metadata": {},
   "outputs": [],
   "source": [
    "# file_name = \"evolution_mer_de_glace_1_5.html\"\n",
    "# process_file(file_name)"
   ]
  },
  {
   "cell_type": "code",
   "execution_count": 19,
   "metadata": {},
   "outputs": [
    {
     "name": "stdout",
     "output_type": "stream",
     "text": [
      "fichier 1 traité\n",
      "fichier 2 traité\n",
      "fichier 3 traité\n",
      "fichier 4 traité\n",
      "fichier 5 traité\n",
      "fichier 6 traité\n",
      "fichier 7 traité\n",
      "fichier 8 traité\n",
      "fichier 9 traité\n",
      "fichier 10 traité\n",
      "fichier 11 traité\n",
      "fichier 12 traité\n",
      "fichier 13 traité\n",
      "fichier 14 traité\n",
      "fichier 15 traité\n",
      "fichier 16 traité\n",
      "fichier 17 traité\n",
      "fichier 18 traité\n",
      "fichier 19 traité\n",
      "fichier 20 traité\n",
      "fichier 21 traité\n",
      "fichier 22 traité\n",
      "fichier 23 traité\n",
      "fichier 24 traité\n",
      "fichier 25 traité\n",
      "fichier 26 traité\n",
      "fichier 27 traité\n",
      "fichier 28 traité\n",
      "fichier 29 traité\n",
      "fichier 30 traité\n",
      "fichier 31 traité\n",
      "fichier 32 traité\n",
      "fichier 33 traité\n",
      "fichier 34 traité\n",
      "fichier 35 traité\n"
     ]
    }
   ],
   "source": [
    "import os\n",
    "\n",
    "# Chemin du dossier à parcourir\n",
    "dossier = './../glaciers_vulgarisation/api/templates'\n",
    "a = 0\n",
    "# Parcourir récursivement le dossier et ses sous-dossiers\n",
    "for dossier_racine, dossiers, fichiers in os.walk(dossier):\n",
    "    for nom_fichier in fichiers:\n",
    "        chemin_complet = os.path.join(dossier_racine, nom_fichier)\n",
    "        process_file(chemin_complet)\n",
    "        a += 1\n",
    "        print(\"fichier \" + str(a) + \" traité\")\n"
   ]
  }
 ],
 "metadata": {
  "kernelspec": {
   "display_name": "oggm_env",
   "language": "python",
   "name": "python3"
  },
  "language_info": {
   "codemirror_mode": {
    "name": "ipython",
    "version": 3
   },
   "file_extension": ".py",
   "mimetype": "text/x-python",
   "name": "python",
   "nbconvert_exporter": "python",
   "pygments_lexer": "ipython3",
   "version": "3.8.10"
  }
 },
 "nbformat": 4,
 "nbformat_minor": 2
}
