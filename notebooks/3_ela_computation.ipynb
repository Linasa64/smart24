{
 "cells": [
  {
   "cell_type": "code",
   "execution_count": 11,
   "metadata": {},
   "outputs": [],
   "source": [
    "from oggm import utils\n",
    "import geopandas as gpd\n",
    "from oggm import cfg\n",
    "from oggm import tasks, utils, workflow, graphics, DEFAULT_BASE_URL, global_task\n",
    "import xarray as xr\n",
    "import matplotlib.pyplot as plt\n",
    "import pandas as pd\n",
    "import numpy as np\n",
    "from oggm.global_tasks import compile_ela\n"
   ]
  },
  {
   "cell_type": "code",
   "execution_count": 12,
   "metadata": {},
   "outputs": [],
   "source": [
    "def initializa_gdir(glacier_name = 'RGI60-15.03473') :\n",
    "    # Initialize OGGM and set up the default run parameters\n",
    "    cfg.initialize(logging_level='WARNING')\n",
    "\n",
    "    # Local working directory (where OGGM will write its output)\n",
    "    # WORKING_DIR = utils.gettempdir('OGGM_distr4')\n",
    "    cfg.PATHS['working_dir'] = utils.get_temp_dir('OGGM_distributed', reset=True)\n",
    "\n",
    "    rgi_ids = [glacier_name]  # This is Aletsch\n",
    "    gdir = workflow.init_glacier_directories(rgi_ids, prepro_base_url=DEFAULT_BASE_URL, from_prepro_level=4, prepro_border=80)[0]\n",
    "    return gdir"
   ]
  },
  {
   "cell_type": "code",
   "execution_count": 18,
   "metadata": {},
   "outputs": [],
   "source": [
    "def compute_ela(glacier_name='RGI60-15.03473', ys=1901, ye=2019):\n",
    "    gdir = initializa_gdir(glacier_name=glacier_name)\n",
    "    donnees = compile_ela(gdir, ys=ys, ye=ye)\n",
    "    return donnees"
   ]
  },
  {
   "cell_type": "code",
   "execution_count": 14,
   "metadata": {},
   "outputs": [],
   "source": [
    "def compute_mean_by_period(donnees, glacier_name, period = \"10Y\") :\n",
    "    donnees = pd.DataFrame({\n",
    "        'annee': [i for i in range(1901, 2020)],\n",
    "        'donnees': donnees[glacier_name]\n",
    "    })\n",
    "\n",
    "    donnees['annee'] = pd.to_datetime(donnees['annee'], format='%Y')\n",
    "\n",
    "    donnees = donnees.set_index('annee')\n",
    "\n",
    "    moyenne_ans = donnees['donnees'].resample(period).mean()\n",
    "\n",
    "    return moyenne_ans"
   ]
  },
  {
   "cell_type": "code",
   "execution_count": null,
   "metadata": {},
   "outputs": [],
   "source": [
    "#Calcul des ela nécessaires\n",
    "mdg_ela=compute_mean_by_period(compute_ela(glacier_name='RGI60-11.03643'),'RGI60-11.03643',\"5Y\")\n",
    "lasneous_ela=compute_mean_by_period(compute_ela(glacier_name='RGI60-11.03234'),'RGI60-11.03234',\"5Y\")\n",
    "ross_ela=compute_mean_by_period(compute_ela(glacier_name='RGI60-19.02266'),\"RGI60-19.02266\",\"5Y\")\n",
    "perito_ela=compute_mean_by_period(compute_ela(glacier_name='RGI60-17.00312'),\"RGI60-17.00312\",\"5Y\")"
   ]
  },
  {
   "cell_type": "code",
   "execution_count": null,
   "metadata": {},
   "outputs": [],
   "source": [
    "plt.plot(mdg_ela)\n",
    "plt.plot(lasneous_ela)\n",
    "plt.plot(ross_ela)\n",
    "plt.plot(perito_ela)"
   ]
  },
  {
   "cell_type": "code",
   "execution_count": null,
   "metadata": {},
   "outputs": [],
   "source": [
    "#Lissage des moyennes de l'ELA sur 5 ans\n",
    "degree=40\n",
    "\n",
    "x=np.arange(1900,2021,5)\n",
    "coefficients=np.polyfit(x,perito_ela,degree)\n",
    "coefficients=np.squeeze(coefficients)\n",
    "\n",
    "polynomial=np.poly1d(coefficients)\n",
    "\n",
    "fitted_curve=polynomial(x)"
   ]
  },
  {
   "cell_type": "code",
   "execution_count": null,
   "metadata": {},
   "outputs": [],
   "source": [
    "#Affichage\n",
    "plt.plot(x,fitted_curve)\n",
    "plt.xlabel(\"Années\")\n",
    "plt.ylabel(\"Altitude(m)\")\n",
    "plt.title(\"Ligne d'équilibre de Perito Moreno en fonction des années\")"
   ]
  }
 ],
 "metadata": {
  "kernelspec": {
   "display_name": "oggm_env",
   "language": "python",
   "name": "python3"
  },
  "language_info": {
   "codemirror_mode": {
    "name": "ipython",
    "version": 3
   },
   "file_extension": ".py",
   "mimetype": "text/x-python",
   "name": "python",
   "nbconvert_exporter": "python",
   "pygments_lexer": "ipython3",
   "version": "3.8.10"
  }
 },
 "nbformat": 4,
 "nbformat_minor": 2
}
